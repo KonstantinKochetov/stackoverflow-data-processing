{
 "cells": [
  {
   "cell_type": "code",
   "execution_count": 1,
   "metadata": {
    "collapsed": true
   },
   "outputs": [],
   "source": [
    "from pyspark.sql import SparkSession\n",
    "from pyspark.sql import Row\n",
    "from pyspark.sql.functions import *\n",
    "from pyspark.sql.types import *\n",
    "\n",
    "# initialize\n",
    "working_directory = 'main/jars/'\n",
    "\n",
    "spark = SparkSession \\\n",
    "    .builder \\\n",
    "    .appName('data-public_local') \\\n",
    "    .config('spark.driver.extraClassPath',\n",
    "            working_directory + 'postgresql-42.2.5.jar') \\\n",
    "    .master(\"local[*]\") \\\n",
    "    .getOrCreate()"
   ]
  },
  {
   "cell_type": "code",
   "execution_count": 2,
   "metadata": {},
   "outputs": [],
   "source": [
    "# get data from parquet files\n",
    "output_directory = 'main/outputdata'\n",
    "\n",
    "badges = spark.read.parquet(output_directory + '/Badges/*')\n",
    "posts = spark.read.parquet(output_directory + '/Posts/*')\n",
    "users = spark.read.parquet(output_directory + '/Users/*')\n",
    "\n",
    "badges.createOrReplaceTempView(\"badges_sql\")\n",
    "posts.createOrReplaceTempView(\"posts_sql\")\n",
    "users.createOrReplaceTempView(\"users_sql\")"
   ]
  },
  {
   "cell_type": "code",
   "execution_count": 3,
   "metadata": {
    "collapsed": true
   },
   "outputs": [
    {
     "name": "stdout",
     "output_type": "stream",
     "text": [
      "+---+----------+--------------------+-------------+---------+--------------------+--------------------+-------------+----+--------------------+-----+-------+---------+---------------+---------+------------------+\n| id|reputation|        creationDate|  displayName|emailHash|      lastAccessDate|          websiteUrl|     location| age|             aboutMe|views|upVotes|downVotes|profileImageUrl|accountId|totalNumberOfPosts|\n+---+----------+--------------------+-------------+---------+--------------------+--------------------+-------------+----+--------------------+-----+-------+---------+---------------+---------+------------------+\n|148|       440|2011-05-25 13:13:...|        scdmb|     null|2016-08-14 12:04:...|                    |         null|null|                null|    4|     12|        0|           null|   383149|                 0|\n|243|       101|2011-06-01 13:18:...|   Binarylife|     null|2018-07-06 07:21:...|                null|         null|null|                null|    0|      0|        0|           null|   263377|                 0|\n| 31|       101|2011-05-24 19:38:...|Ian Mackinnon|     null|2018-09-18 17:24:...|http://ianmackinn...|Madrid, Spain|null|<p><a href=\"http:...|    0|      6|        0|           null|    69270|                 0|\n+---+----------+--------------------+-------------+---------+--------------------+--------------------+-------------+----+--------------------+-----+-------+---------+---------------+---------+------------------+\nonly showing top 3 rows\n\n"
     ]
    }
   ],
   "source": [
    "# create table with number of posts per user\n",
    "posts_number = spark.sql(\"SELECT tmp.ownerUserId, COUNT(*) as totalNumberOfPosts\"\n",
    "                         \" FROM (posts_sql join users_sql\"\n",
    "                         \"     on users_sql.id == posts_sql.ownerUserId) as tmp\"\n",
    "                         \" GROUP BY tmp.ownerUserId\"\n",
    "                         )\n",
    "\n",
    "posts_number.createOrReplaceTempView(\"posts_number_sql\")\n",
    "\n",
    "# JOIN with users table -> users table with number of posts\n",
    "new_users_1 = spark.sql(\" SELECT tmp.id, tmp.reputation, tmp.creationDate, tmp.displayName, tmp.emailHash,\"\n",
    "                                     \" tmp.lastAccessDate, tmp.websiteUrl, tmp.location, tmp.age, tmp.aboutMe, tmp.views,\"\n",
    "                                     \" tmp.upVotes, tmp.downVotes, tmp.profileImageUrl, tmp.accountId, COALESCE(tmp.totalNumberOfPosts, 0) as totalNumberOfPosts\"\n",
    "                                     \" FROM (users_sql LEFT OUTER JOIN posts_number_sql\"\n",
    "                                     \"  on users_sql.id == posts_number_sql.ownerUserId) as tmp\")\n",
    "\n",
    "new_users_1.createOrReplaceTempView(\"new_users_1_sql\")\n",
    "new_users_1.show(3)\n"
   ]
  },
  {
   "cell_type": "code",
   "execution_count": 4,
   "metadata": {},
   "outputs": [
    {
     "name": "stdout",
     "output_type": "stream",
     "text": [
      "+------+------+\n|userId|critic|\n+------+------+\n|     8|     1|\n|     1|     1|\n|     4|     1|\n+------+------+\nonly showing top 3 rows\n\n"
     ]
    },
    {
     "name": "stdout",
     "output_type": "stream",
     "text": [
      "+---+----------+--------------------+-------------+---------+--------------------+--------------------+-------------+----+--------------------+-----+-------+---------+---------------+---------+------------------+------+\n| id|reputation|        creationDate|  displayName|emailHash|      lastAccessDate|          websiteUrl|     location| age|             aboutMe|views|upVotes|downVotes|profileImageUrl|accountId|totalNumberOfPosts|critic|\n+---+----------+--------------------+-------------+---------+--------------------+--------------------+-------------+----+--------------------+-----+-------+---------+---------------+---------+------------------+------+\n|148|       440|2011-05-25 13:13:...|        scdmb|     null|2016-08-14 12:04:...|                    |         null|null|                null|    4|     12|        0|           null|   383149|                 0|     0|\n|243|       101|2011-06-01 13:18:...|   Binarylife|     null|2018-07-06 07:21:...|                null|         null|null|                null|    0|      0|        0|           null|   263377|                 0|     0|\n| 31|       101|2011-05-24 19:38:...|Ian Mackinnon|     null|2018-09-18 17:24:...|http://ianmackinn...|Madrid, Spain|null|<p><a href=\"http:...|    0|      6|        0|           null|    69270|                 0|     0|\n+---+----------+--------------------+-------------+---------+--------------------+--------------------+-------------+----+--------------------+-----+-------+---------+---------------+---------+------------------+------+\nonly showing top 3 rows\n\n"
     ]
    }
   ],
   "source": [
    "# table with critics\n",
    "critics = spark.sql(\"SELECT tmp.userId, tmp.name as badge\"\n",
    "                            \" FROM (badges_sql join users_sql\"\n",
    "                            \" on badges_sql.userId == users_sql.id) as tmp\"\n",
    "                            \" WHERE tmp.name == 'Critic'\"\n",
    "                            )\n",
    "\n",
    "critics = critics.withColumn(\"critic\", when(critics.badge == \"Critic\", 1).otherwise(0)).drop(col(\"badge\"))\n",
    "critics.createOrReplaceTempView(\"critics_sql\")\n",
    "critics.show(3)\n",
    "\n",
    "\n",
    "new_users_2 = spark.sql(\" SELECT tmp.id, tmp.reputation, tmp.creationDate, tmp.displayName, tmp.emailHash,\"\n",
    "                        \" tmp.lastAccessDate, tmp.websiteUrl, tmp.location, tmp.age, tmp.aboutMe, tmp.views,\"\n",
    "                        \" tmp.upVotes, tmp.downVotes, tmp.profileImageUrl, tmp.accountId, tmp.totalNumberOfPosts,\"\n",
    "                        \" COALESCE(tmp.critic, 0) as critic\"\n",
    "                      \" FROM (new_users_1_sql LEFT OUTER JOIN critics_sql\"\n",
    "                      \"  on new_users_1_sql.id == critics_sql.userId) as tmp\")\n",
    "\n",
    "new_users_2.createOrReplaceTempView(\"new_users_2_sql\")\n",
    "\n",
    "new_users_2.show(3)\n"
   ]
  },
  {
   "cell_type": "code",
   "execution_count": 5,
   "metadata": {},
   "outputs": [
    {
     "name": "stdout",
     "output_type": "stream",
     "text": [
      "+------+------+\n|userId|editor|\n+------+------+\n|     8|     1|\n|     6|     1|\n|     1|     1|\n+------+------+\nonly showing top 3 rows\n\n"
     ]
    },
    {
     "name": "stdout",
     "output_type": "stream",
     "text": [
      "+---+----------+--------------------+-------------+---------+--------------------+--------------------+-------------+----+--------------------+-----+-------+---------+---------------+---------+------------------+------+------+\n| id|reputation|        creationDate|  displayName|emailHash|      lastAccessDate|          websiteUrl|     location| age|             aboutMe|views|upVotes|downVotes|profileImageUrl|accountId|totalNumberOfPosts|critic|editor|\n+---+----------+--------------------+-------------+---------+--------------------+--------------------+-------------+----+--------------------+-----+-------+---------+---------------+---------+------------------+------+------+\n|148|       440|2011-05-25 13:13:...|        scdmb|     null|2016-08-14 12:04:...|                    |         null|null|                null|    4|     12|        0|           null|   383149|                 0|     0|     0|\n|243|       101|2011-06-01 13:18:...|   Binarylife|     null|2018-07-06 07:21:...|                null|         null|null|                null|    0|      0|        0|           null|   263377|                 0|     0|     0|\n| 31|       101|2011-05-24 19:38:...|Ian Mackinnon|     null|2018-09-18 17:24:...|http://ianmackinn...|Madrid, Spain|null|<p><a href=\"http:...|    0|      6|        0|           null|    69270|                 0|     0|     0|\n+---+----------+--------------------+-------------+---------+--------------------+--------------------+-------------+----+--------------------+-----+-------+---------+---------------+---------+------------------+------+------+\nonly showing top 3 rows\n\n"
     ]
    }
   ],
   "source": [
    "# table with editors\n",
    "editors = spark.sql(\"SELECT tmp.userId, tmp.name as badge\"\n",
    "                    \" FROM (badges_sql join users_sql\"\n",
    "                    \" on badges_sql.userId == users_sql.id) as tmp\"\n",
    "                    \" WHERE tmp.name == 'Editor'\"\n",
    "                    )\n",
    "\n",
    "editors = editors.withColumn(\"editor\", when(editors.badge == \"Editor\", 1).otherwise(0)).drop(\n",
    "    col(\"badge\"))\n",
    "editors.createOrReplaceTempView(\"editors_sql\")\n",
    "editors.show(3)\n",
    "\n",
    "new_users_3 = spark.sql(\" SELECT tmp.id, tmp.reputation, tmp.creationDate, tmp.displayName, tmp.emailHash,\"\n",
    "                        \" tmp.lastAccessDate, tmp.websiteUrl, tmp.location, tmp.age, tmp.aboutMe, tmp.views,\"\n",
    "                        \" tmp.upVotes, tmp.downVotes, tmp.profileImageUrl, tmp.accountId, tmp.totalNumberOfPosts,\"\n",
    "                        \" tmp.critic, COALESCE(tmp.editor, 0) as editor\"\n",
    "                       \" FROM (new_users_2_sql LEFT OUTER JOIN editors_sql\"\n",
    "                       \"  on new_users_2_sql.id == editors_sql.userId) as tmp\")\n",
    "\n",
    "new_users_3.createOrReplaceTempView(\"new_users_3_sql\")\n",
    "\n",
    "new_users_3.show(3)"
   ]
  },
  {
   "cell_type": "code",
   "execution_count": 6,
   "metadata": {
    "collapsed": true
   },
   "outputs": [
    {
     "name": "stdout",
     "output_type": "stream",
     "text": [
      "+---+----------+--------------------+-------------+---------+--------------------+--------------------+-------------+----+--------------------+-----+-------+---------+---------------+---------+------------------+------+------+----------------------+\n| id|reputation|        creationDate|  displayName|emailHash|      lastAccessDate|          websiteUrl|     location| age|             aboutMe|views|upVotes|downVotes|profileImageUrl|accountId|totalNumberOfPosts|critic|editor|lastMonthNumberOfPosts|\n+---+----------+--------------------+-------------+---------+--------------------+--------------------+-------------+----+--------------------+-----+-------+---------+---------------+---------+------------------+------+------+----------------------+\n|148|       440|2011-05-25 13:13:...|        scdmb|     null|2016-08-14 12:04:...|                    |         null|null|                null|    4|     12|        0|           null|   383149|                 0|     0|     0|                     0|\n|243|       101|2011-06-01 13:18:...|   Binarylife|     null|2018-07-06 07:21:...|                null|         null|null|                null|    0|      0|        0|           null|   263377|                 0|     0|     0|                     0|\n| 31|       101|2011-05-24 19:38:...|Ian Mackinnon|     null|2018-09-18 17:24:...|http://ianmackinn...|Madrid, Spain|null|<p><a href=\"http:...|    0|      6|        0|           null|    69270|                 0|     0|     0|                     0|\n+---+----------+--------------------+-------------+---------+--------------------+--------------------+-------------+----+--------------------+-----+-------+---------+---------------+---------+------------------+------+------+----------------------+\nonly showing top 3 rows\n\n"
     ]
    }
   ],
   "source": [
    "# table with last 30 days number ofposts\n",
    "number_posts_30_days = spark.sql(\"SELECT p.ownerUserId, COUNT(*) as lastMonthNumberOfPosts\"\n",
    "          \" FROM posts_sql as p\"\n",
    "          \" WHERE (CURRENT_TIMESTAMP - INTERVAL 30 days) <= p.creationDate\"\n",
    "          \" GROUP BY p.ownerUserId\")\n",
    "\n",
    "number_posts_30_days.createOrReplaceTempView(\"number_posts_30_days_sql\")\n",
    "\n",
    "final_users = spark.sql(\" SELECT tmp.id, tmp.reputation, tmp.creationDate, tmp.displayName, tmp.emailHash,\"\n",
    "                                    \" tmp.lastAccessDate, tmp.websiteUrl, tmp.location, tmp.age, tmp.aboutMe, tmp.views,\"\n",
    "                                    \" tmp.upVotes, tmp.downVotes, tmp.profileImageUrl, tmp.accountId, tmp.totalNumberOfPosts,\"\n",
    "                                    \" tmp.critic, tmp.editor, COALESCE(tmp.lastMonthNumberOfPosts,0) as lastMonthNumberOfPosts\"\n",
    "                                     \" FROM (new_users_3_sql LEFT OUTER JOIN number_posts_30_days_sql\"\n",
    "                                     \"  on new_users_3_sql.id == number_posts_30_days_sql.ownerUserId) as tmp\")\n",
    "\n",
    "final_users.createOrReplaceTempView(\"final_users_sql\")\n",
    "\n",
    "final_users.show(3)"
   ]
  },
  {
   "cell_type": "code",
   "execution_count": 7,
   "metadata": {},
   "outputs": [],
   "source": [
    "# writing to local database\n",
    "\n",
    "# TODO pass your database properties here\n",
    "properties = {\n",
    "    'driver': 'org.postgresql.Driver',\n",
    "    'url': 'jdbc:postgresql:stackoverflow',\n",
    "    'user': 'postgres',\n",
    "    'password': 'testpassword',\n",
    "    'dbtable': 'users',\n",
    "}\n",
    "\n",
    "final_users.write \\\n",
    "    .format('jdbc') \\\n",
    "    .option('driver', properties['driver']) \\\n",
    "    .option('url', properties['url']) \\\n",
    "    .option('password', properties['password']) \\\n",
    "    .option('dbtable', properties['dbtable']) \\\n",
    "    .mode('append') \\\n",
    "    .save()\n"
   ]
  },
  {
   "cell_type": "code",
   "execution_count": 8,
   "metadata": {},
   "outputs": [
    {
     "name": "stdout",
     "output_type": "stream",
     "text": [
      "+---+----------+--------------------+-----------+---------+--------------------+----------+--------+----+-------+-----+-------+---------+---------------+---------+------------------+------+------+----------------------+\n| id|reputation|        creationDate|displayName|emailHash|      lastAccessDate|websiteUrl|location| age|aboutMe|views|upVotes|downVotes|profileImageUrl|accountId|totalNumberOfPosts|critic|editor|lastMonthNumberOfPosts|\n+---+----------+--------------------+-----------+---------+--------------------+----------+--------+----+-------+-----+-------+---------+---------------+---------+------------------+------+------+----------------------+\n|243|       101|2011-06-01 13:18:...| Binarylife|     null|2018-07-06 07:21:...|      null|    null|null|   null|    0|      0|        0|           null|   263377|                 0|     0|     0|                     0|\n| 85|         1|2011-05-24 23:26:...|      Marco|     null|2011-05-24 23:26:...|      null|    null|null|   null|    0|      0|        0|           null|   263030|                 0|     0|     0|                     0|\n|137|       101|2011-05-25 09:52:...|       mime|     null|2012-01-30 13:29:...|      null| Germany|null|   null|    0|      4|        0|           null|     6173|                 0|     0|     0|                     0|\n+---+----------+--------------------+-----------+---------+--------------------+----------+--------+----+-------+-----+-------+---------+---------------+---------+------------------+------+------+----------------------+\nonly showing top 3 rows\n\n"
     ]
    },
    {
     "data": {
      "text/plain": [
       "238"
      ]
     },
     "execution_count": 8,
     "metadata": {},
     "output_type": "execute_result"
    }
   ],
   "source": [
    "# reading from local database\n",
    "\n",
    "df_local = spark.read \\\n",
    "    .format('jdbc') \\\n",
    "    .option('driver', properties['driver']) \\\n",
    "    .option('url', properties['url']) \\\n",
    "    .option('user', properties['user']) \\\n",
    "    .option('password', properties['password']) \\\n",
    "    .option('dbtable', properties['dbtable']) \\\n",
    "    .load()\n",
    "\n",
    "df_local.select('*').show(3)\n",
    "df_local.count()\n"
   ]
  },
  {
   "cell_type": "code",
   "execution_count": 54,
   "metadata": {},
   "outputs": [],
   "source": [
    "# writing to remote  database\n",
    "\n",
    "# TODO pass your database properties here\n",
    "properties_remote = {\n",
    "    'driver': 'org.postgresql.Driver',\n",
    "    'url': 'jdbc:postgresql:stackoverflow',\n",
    "    'user': 'postgres',\n",
    "    'password': 'testpassword',\n",
    "    'dbtable': 'users',\n",
    "}\n",
    "\n",
    "final_users.write \\\n",
    "    .format('jdbc') \\\n",
    "    .option('driver', properties_remote['driver']) \\\n",
    "    .option('url', properties_remote['url']) \\\n",
    "    .option('user', properties_remote['user']) \\\n",
    "    .option('password', properties_remote['password']) \\\n",
    "    .option('dbtable', properties_remote['dbtable']) \\\n",
    "    .mode('append') \\\n",
    "    .save()\n"
   ]
  },
  {
   "cell_type": "code",
   "execution_count": 59,
   "metadata": {},
   "outputs": [
    {
     "name": "stdout",
     "output_type": "stream",
     "text": [
      "+---+----------+--------------------+-------------+---------+--------------------+--------------------+-------------+----+--------------------+-----+-------+---------+---------------+---------+------------------+------+------+----------------------+\n| id|reputation|        creationDate|  displayName|emailHash|      lastAccessDate|          websiteUrl|     location| age|             aboutMe|views|upVotes|downVotes|profileImageUrl|accountId|totalNumberOfPosts|critic|editor|lastMonthNumberOfPosts|\n+---+----------+--------------------+-------------+---------+--------------------+--------------------+-------------+----+--------------------+-----+-------+---------+---------------+---------+------------------+------+------+----------------------+\n|148|       440|2011-05-25 13:13:...|        scdmb|     null|2016-08-14 12:04:...|                    |         null|null|                null|    4|     12|        0|           null|   383149|                 0|     0|     0|                     0|\n|243|       101|2011-06-01 13:18:...|   Binarylife|     null|2018-07-06 07:21:...|                null|         null|null|                null|    0|      0|        0|           null|   263377|                 0|     0|     0|                     0|\n| 31|       101|2011-05-24 19:38:...|Ian Mackinnon|     null|2018-09-18 17:24:...|http://ianmackinn...|Madrid, Spain|null|<p><a href=\"http:...|    0|      6|        0|           null|    69270|                 0|     0|     0|                     0|\n+---+----------+--------------------+-------------+---------+--------------------+--------------------+-------------+----+--------------------+-----+-------+---------+---------------+---------+------------------+------+------+----------------------+\nonly showing top 3 rows\n\n"
     ]
    },
    {
     "name": "stdout",
     "output_type": "stream",
     "text": [
      "238\n"
     ]
    },
    {
     "name": "stdout",
     "output_type": "stream",
     "text": [
      "+---+----------+--------------------+-----------+---------+--------------------+----------------+--------------------+----+--------------------+-----+-------+---------+--------------------+---------+------------------+------+------+----------------------+\n| id|reputation|        creationDate|displayName|emailHash|      lastAccessDate|      websiteUrl|            location| age|             aboutMe|views|upVotes|downVotes|     profileImageUrl|accountId|totalNumberOfPosts|critic|editor|lastMonthNumberOfPosts|\n+---+----------+--------------------+-----------+---------+--------------------+----------------+--------------------+----+--------------------+-----+-------+---------+--------------------+---------+------------------+------+------+----------------------+\n|  8|      4889|2011-05-24 19:27:...|   Pekka 웃|     null|2018-07-06 08:12:...|http://pekka.net|Tabayesco, Lanzar...|null|<p>Web developer,...|  366|    206|        1|https://i.stack.i...|    63368|                 7|     1|     1|                     3|\n+---+----------+--------------------+-----------+---------+--------------------+----------------+--------------------+----+--------------------+-----+-------+---------+--------------------+---------+------------------+------+------+----------------------+\n\n"
     ]
    }
   ],
   "source": [
    "# read from temote database\n",
    "\n",
    "df_remote = spark.read \\\n",
    "    .format('jdbc') \\\n",
    "    .option('driver', properties_remote['driver']) \\\n",
    "    .option('url', properties_remote['url']) \\\n",
    "    .option('user', properties_remote['user']) \\\n",
    "    .option('password', properties_remote['password']) \\\n",
    "    .option('dbtable', properties_remote['dbtable']) \\\n",
    "    .load()\n",
    "\n",
    "\n",
    "df_remote.select('*').show(3)\n",
    "print(df_remote.count())\n",
    "df_remote.select('*').where(col('id') == 8).show()"
   ]
  },
  {
   "cell_type": "code",
   "execution_count": null,
   "metadata": {},
   "outputs": [],
   "source": []
  }
 ],
 "metadata": {
  "kernelspec": {
   "display_name": "Python 2",
   "language": "python",
   "name": "python2"
  },
  "language_info": {
   "codemirror_mode": {
    "name": "ipython",
    "version": 2
   },
   "file_extension": ".py",
   "mimetype": "text/x-python",
   "name": "python",
   "nbconvert_exporter": "python",
   "pygments_lexer": "ipython2",
   "version": "2.7.6"
  }
 },
 "nbformat": 4,
 "nbformat_minor": 0
}
